{
 "cells": [
  {
   "cell_type": "markdown",
   "id": "thermal-corporation",
   "metadata": {},
   "source": [
    "# Assume Data wherever needed/necessary"
   ]
  },
  {
   "cell_type": "markdown",
   "id": "central-malta",
   "metadata": {},
   "source": [
    "### Loop Statements"
   ]
  },
  {
   "cell_type": "code",
   "execution_count": null,
   "id": "elementary-guatemala",
   "metadata": {},
   "outputs": [],
   "source": [
    "#L1\n",
    "WAP to print all elements of a list using a for loop. Take the elements of the list from the user."
   ]
  },
  {
   "cell_type": "code",
   "execution_count": null,
   "id": "supported-hawaiian",
   "metadata": {},
   "outputs": [],
   "source": []
  },
  {
   "cell_type": "code",
   "execution_count": 31,
   "id": "overall-naples",
   "metadata": {},
   "outputs": [
    {
     "name": "stdout",
     "output_type": "stream",
     "text": [
      "Enter your numbers(use only comma):- 1,2,3,4\n",
      "Enter a number: 1\n",
      "[2, 3, 4]\n"
     ]
    }
   ],
   "source": [
    "#L2\n",
    "# WAP to take inputs from user to make a list. Length of the list has to be taken from the user.\n",
    "# Again take one input from user and search it in the list and delete that element, if found.\n",
    "# If not found, print \"Element not present\".\n",
    "\n",
    "# f = input(\"Enter your numbers(use only comma):- \" )  #\"1,2,3,4\"\n",
    "# l = f.split(\",\")                                     #['1','2','3','4']\n",
    "# ls=(map(int,l))                                    #ls = [1,2,3,4]\n",
    "\n",
    "ls = list(map(int,input(\"Enter your numbers(use only comma):- \" ).split(\",\")))\n",
    "e = int(input(\"Enter a number: \"))\n",
    "ls.remove(e) if e in ls else print(\"Element not found\")\n",
    "print(ls)"
   ]
  },
  {
   "cell_type": "code",
   "execution_count": 5,
   "id": "detected-prince",
   "metadata": {},
   "outputs": [
    {
     "name": "stdout",
     "output_type": "stream",
     "text": [
      "Enter comma seperated integers: 1,2,3,4\n"
     ]
    },
    {
     "data": {
      "text/plain": [
       "'1,2,3,4'"
      ]
     },
     "execution_count": 5,
     "metadata": {},
     "output_type": "execute_result"
    }
   ],
   "source": [
    "s = input(\"Enter comma seperated integers: \")\n",
    "s"
   ]
  },
  {
   "cell_type": "code",
   "execution_count": 12,
   "id": "helpful-benefit",
   "metadata": {},
   "outputs": [
    {
     "data": {
      "text/plain": [
       "['1', '2', '3', '4']"
      ]
     },
     "execution_count": 12,
     "metadata": {},
     "output_type": "execute_result"
    }
   ],
   "source": [
    "p = s.split(\",\")\n",
    "p"
   ]
  },
  {
   "cell_type": "code",
   "execution_count": 19,
   "id": "resident-second",
   "metadata": {},
   "outputs": [
    {
     "data": {
      "text/plain": [
       "[1, 2, 3, 4]"
      ]
     },
     "execution_count": 19,
     "metadata": {},
     "output_type": "execute_result"
    }
   ],
   "source": [
    "# map(func,iteration)\n",
    "m = list(map(int,p))\n",
    "m"
   ]
  },
  {
   "cell_type": "code",
   "execution_count": 11,
   "id": "opened-nurse",
   "metadata": {},
   "outputs": [
    {
     "data": {
      "text/plain": [
       "[1, 2, 3, 4]"
      ]
     },
     "execution_count": 11,
     "metadata": {},
     "output_type": "execute_result"
    }
   ],
   "source": [
    "for x in range(len(p)):\n",
    "    p[x] = int(p[x])\n",
    "\n",
    "p\n",
    "\n",
    "# r = []\n",
    "# for x in p:\n",
    "#     x = int(x)\n",
    "#     r.append(x)\n",
    "#     print(x)\n",
    "\n",
    "# p"
   ]
  },
  {
   "cell_type": "code",
   "execution_count": null,
   "id": "informed-syndication",
   "metadata": {},
   "outputs": [],
   "source": [
    "s = input(\"Enter comma seperated integers: \")\n",
    "p = s.split(\",\")\n",
    "m = list(map(int,input(\"Enter comma seperated integers: \").split(\",\")))\n",
    "\n",
    "# l1=[]\n",
    "# for i in ls:\n",
    "#     l1.append(i)\n",
    "# print(l1)"
   ]
  },
  {
   "cell_type": "code",
   "execution_count": null,
   "id": "detailed-twenty",
   "metadata": {},
   "outputs": [],
   "source": []
  },
  {
   "cell_type": "code",
   "execution_count": 39,
   "id": "specific-catalog",
   "metadata": {},
   "outputs": [
    {
     "ename": "KeyboardInterrupt",
     "evalue": "Interrupted by user",
     "output_type": "error",
     "traceback": [
      "\u001b[1;31m---------------------------------------------------------------------------\u001b[0m",
      "\u001b[1;31mKeyboardInterrupt\u001b[0m                         Traceback (most recent call last)",
      "\u001b[1;32m<ipython-input-39-ea18d6fdd7de>\u001b[0m in \u001b[0;36m<module>\u001b[1;34m\u001b[0m\n\u001b[0;32m     11\u001b[0m \u001b[1;33m\u001b[0m\u001b[0m\n\u001b[0;32m     12\u001b[0m \u001b[1;32mwhile\u001b[0m \u001b[1;36m1\u001b[0m\u001b[1;33m:\u001b[0m\u001b[1;33m\u001b[0m\u001b[1;33m\u001b[0m\u001b[0m\n\u001b[1;32m---> 13\u001b[1;33m     \u001b[0minp\u001b[0m \u001b[1;33m=\u001b[0m \u001b[0minput\u001b[0m\u001b[1;33m(\u001b[0m\u001b[1;34m\"enter marks : \"\u001b[0m\u001b[1;33m)\u001b[0m\u001b[1;33m\u001b[0m\u001b[1;33m\u001b[0m\u001b[0m\n\u001b[0m\u001b[0;32m     14\u001b[0m     \u001b[0mprint\u001b[0m\u001b[1;33m(\u001b[0m\u001b[0minp\u001b[0m\u001b[1;33m.\u001b[0m\u001b[0mupper\u001b[0m\u001b[1;33m(\u001b[0m\u001b[1;33m)\u001b[0m \u001b[1;33m==\u001b[0m \u001b[1;34m\"STOP\"\u001b[0m\u001b[1;33m)\u001b[0m\u001b[1;33m\u001b[0m\u001b[1;33m\u001b[0m\u001b[0m\n\u001b[0;32m     15\u001b[0m     \u001b[1;32mif\u001b[0m \u001b[0minp\u001b[0m\u001b[1;33m.\u001b[0m\u001b[0misdigit\u001b[0m\u001b[1;33m(\u001b[0m\u001b[1;33m)\u001b[0m\u001b[1;33m:\u001b[0m\u001b[1;33m\u001b[0m\u001b[1;33m\u001b[0m\u001b[0m\n",
      "\u001b[1;32md:\\installed softwares\\python\\lib\\site-packages\\ipykernel\\kernelbase.py\u001b[0m in \u001b[0;36mraw_input\u001b[1;34m(self, prompt)\u001b[0m\n\u001b[0;32m    855\u001b[0m                 \u001b[1;34m\"raw_input was called, but this frontend does not support input requests.\"\u001b[0m\u001b[1;33m\u001b[0m\u001b[1;33m\u001b[0m\u001b[0m\n\u001b[0;32m    856\u001b[0m             )\n\u001b[1;32m--> 857\u001b[1;33m         return self._input_request(str(prompt),\n\u001b[0m\u001b[0;32m    858\u001b[0m             \u001b[0mself\u001b[0m\u001b[1;33m.\u001b[0m\u001b[0m_parent_ident\u001b[0m\u001b[1;33m,\u001b[0m\u001b[1;33m\u001b[0m\u001b[1;33m\u001b[0m\u001b[0m\n\u001b[0;32m    859\u001b[0m             \u001b[0mself\u001b[0m\u001b[1;33m.\u001b[0m\u001b[0m_parent_header\u001b[0m\u001b[1;33m,\u001b[0m\u001b[1;33m\u001b[0m\u001b[1;33m\u001b[0m\u001b[0m\n",
      "\u001b[1;32md:\\installed softwares\\python\\lib\\site-packages\\ipykernel\\kernelbase.py\u001b[0m in \u001b[0;36m_input_request\u001b[1;34m(self, prompt, ident, parent, password)\u001b[0m\n\u001b[0;32m    899\u001b[0m             \u001b[1;32mexcept\u001b[0m \u001b[0mKeyboardInterrupt\u001b[0m\u001b[1;33m:\u001b[0m\u001b[1;33m\u001b[0m\u001b[1;33m\u001b[0m\u001b[0m\n\u001b[0;32m    900\u001b[0m                 \u001b[1;31m# re-raise KeyboardInterrupt, to truncate traceback\u001b[0m\u001b[1;33m\u001b[0m\u001b[1;33m\u001b[0m\u001b[1;33m\u001b[0m\u001b[0m\n\u001b[1;32m--> 901\u001b[1;33m                 \u001b[1;32mraise\u001b[0m \u001b[0mKeyboardInterrupt\u001b[0m\u001b[1;33m(\u001b[0m\u001b[1;34m\"Interrupted by user\"\u001b[0m\u001b[1;33m)\u001b[0m \u001b[1;32mfrom\u001b[0m \u001b[1;32mNone\u001b[0m\u001b[1;33m\u001b[0m\u001b[1;33m\u001b[0m\u001b[0m\n\u001b[0m\u001b[0;32m    902\u001b[0m             \u001b[1;32mexcept\u001b[0m \u001b[0mException\u001b[0m \u001b[1;32mas\u001b[0m \u001b[0me\u001b[0m\u001b[1;33m:\u001b[0m\u001b[1;33m\u001b[0m\u001b[1;33m\u001b[0m\u001b[0m\n\u001b[0;32m    903\u001b[0m                 \u001b[0mself\u001b[0m\u001b[1;33m.\u001b[0m\u001b[0mlog\u001b[0m\u001b[1;33m.\u001b[0m\u001b[0mwarning\u001b[0m\u001b[1;33m(\u001b[0m\u001b[1;34m\"Invalid Message:\"\u001b[0m\u001b[1;33m,\u001b[0m \u001b[0mexc_info\u001b[0m\u001b[1;33m=\u001b[0m\u001b[1;32mTrue\u001b[0m\u001b[1;33m)\u001b[0m\u001b[1;33m\u001b[0m\u001b[1;33m\u001b[0m\u001b[0m\n",
      "\u001b[1;31mKeyboardInterrupt\u001b[0m: Interrupted by user"
     ]
    }
   ],
   "source": [
    "#L3\n",
    "# Make a grading system for a school based on the marks of the students using the following criteria.\n",
    "# Marks 0 - 40 : Grade F\n",
    "#      41 - 50 : Grade E\n",
    "#      51 - 70 : Grade D\n",
    "#      71 - 80 : Grade C\n",
    "#      81 - 89 : Grade B\n",
    "#      91 - 100: Grade A\n",
    "# Continuously take marks as input from the user and print the grade.\n",
    "# The user can enter \"Stop\" to stop the loop.\n",
    "\n",
    "\n",
    "#Swetha Code\n",
    "while 1:\n",
    "    inp = input(\"enter marks : \")\n",
    "#     print(inp.upper() == \"STOP\")\n",
    "    if inp.isdigit():\n",
    "        marks=int(inp) \n",
    "    elif inp.upper() == 'STOP':\n",
    "        break\n",
    "    else:\n",
    "        print(\"enter valid input\")\n",
    "        \n",
    "    if 90 < marks <=100:\n",
    "        print(\"Grade A\")\n",
    "    elif 80 < marks <=90:\n",
    "        print(\"Grade B\")\n",
    "    elif 70 < marks <=80:\n",
    "        print(\"Grade C\")\n",
    "    elif 50 < marks <=70:\n",
    "        print(\"Grade D\")\n",
    "    elif 40 < marks <=50:\n",
    "        print(\"Grade E\")\n",
    "    elif 0 <= marks <=40:\n",
    "        print(\"Grade F\")\n",
    "    else:\n",
    "        print(\"Out of Range\")\n",
    "\n",
    "#Ashutosh Code\n",
    "while(1):\n",
    "    i=(input(\"Please enter your mark :-\"))\n",
    "        \n",
    "    if i<=\"40\":\n",
    "        print(\"Grade F\")\n",
    "    elif i>\"40\" and i<=\"50\":\n",
    "        print(\"Grade E\")\n",
    "    elif i >\"50\" and i<=\"70\":\n",
    "        print(\"Grade D\")\n",
    "    elif i >\"70\" and i <= \"80\":\n",
    "        print(\"Grade C\")\n",
    "    elif i > \"80\" and i <=\"90\":\n",
    "        print(\"Grade B\")\n",
    "    elif i> \"90\" and i <=\"100\":\n",
    "        print(\"Grade A\")\n",
    "    elif i.upper() == \"STOP\":\n",
    "        break\n",
    "    else:\n",
    "        print(\"Enter valid marks\")\n"
   ]
  },
  {
   "cell_type": "code",
   "execution_count": null,
   "id": "decreased-bloom",
   "metadata": {},
   "outputs": [],
   "source": []
  },
  {
   "cell_type": "code",
   "execution_count": 35,
   "id": "italic-casino",
   "metadata": {},
   "outputs": [
    {
     "name": "stdout",
     "output_type": "stream",
     "text": [
      "Enter a list of number: 1 2 4 7 9 3\n",
      "['1', '2', '4', '7', '9', '3']\n",
      "1\n",
      "8\n",
      "64\n",
      "343\n",
      "729\n",
      "27\n"
     ]
    }
   ],
   "source": [
    "#L4\n",
    "# WAP to save the cube of all numbers from 1 to a number n in list, \n",
    "# where n is taken as input from the user.\n",
    "# For e.g.: Input:  5\n",
    "#         Output: [1,8,27,64,125]\n",
    "    \n",
    "list1 = input('Enter a list of number: ')\n",
    "list2 = list1.split()\n",
    "print(list2)\n",
    "for i in list2:\n",
    "    print(int(i)**3)\n"
   ]
  },
  {
   "cell_type": "code",
   "execution_count": null,
   "id": "latin-projector",
   "metadata": {},
   "outputs": [],
   "source": []
  },
  {
   "cell_type": "code",
   "execution_count": 41,
   "id": "nervous-publication",
   "metadata": {},
   "outputs": [
    {
     "name": "stdout",
     "output_type": "stream",
     "text": [
      "enter a number: 9\n",
      "8 6 4 2 "
     ]
    }
   ],
   "source": [
    "#L5\n",
    "# WAP to print even numbers in a given range in reverse order.\n",
    "# Take the range from the user.\n",
    "\n",
    "# m = int(input(\"Range Start: \"))\n",
    "# n = int(input(\"Range End: \"))\n",
    "\n",
    "# for i in range(n, m-1,-1):\n",
    "#     if i % 2 == 0:\n",
    "#         print(i)\n",
    "\n",
    "# ls=[]\n",
    "# for i in range(0,4):\n",
    "#     ele=int(input())\n",
    "#     ls.append(ele)\n",
    "# print(ls)\n",
    "\n",
    "# a=ls[::-1]\n",
    "# for i in a:\n",
    "#     if i %2==0:\n",
    "#         print(i, end=\",\")\n",
    "\n",
    "# Pavani Code\n",
    "x = int(input(\"enter a number: \"))\n",
    "if x % 2 == 1:\n",
    "    x = x-1\n",
    "while x >= 2:\n",
    "    print(x, end = \" \")\n",
    "    x = x-2"
   ]
  },
  {
   "cell_type": "code",
   "execution_count": null,
   "id": "juvenile-scope",
   "metadata": {},
   "outputs": [],
   "source": [
    "#L6\n",
    "WAP to print odd numbers in a given range in reverse order.\n",
    "Take the range from the user."
   ]
  },
  {
   "cell_type": "code",
   "execution_count": null,
   "id": "southwest-barrel",
   "metadata": {},
   "outputs": [],
   "source": [
    "#L7\n",
    "WAP to print multiplication table of a number taken as input from the user.\n",
    "\n",
    "For e.g. Input: 5\n",
    "        Output: 5*1 = 5\n",
    "                5*2 = 10\n",
    "                .\n",
    "                .\n",
    "                .\n",
    "                5*10 = 50"
   ]
  },
  {
   "cell_type": "code",
   "execution_count": null,
   "id": "german-potter",
   "metadata": {},
   "outputs": [],
   "source": [
    "#L8\n",
    "WAP to print the following pattern.\n",
    "\n",
    "1\n",
    "1 2\n",
    "1 2 3\n",
    "1 2 3 4"
   ]
  },
  {
   "cell_type": "code",
   "execution_count": 56,
   "id": "activated-orbit",
   "metadata": {},
   "outputs": [
    {
     "name": "stdout",
     "output_type": "stream",
     "text": [
      "enter no of terms: 5\n",
      "Enter the number: 2\n",
      "2 22 222 2222 22222 \n",
      "sum of series: 24690\n"
     ]
    }
   ],
   "source": [
    "#L9\n",
    "# Write a program to calculate the sum of series up to n terms for a digit d.\n",
    "# n & d are taken as input from the user.\n",
    "\n",
    "# For example:\n",
    "#     Input: n = 5, d = 2\n",
    "#     Logic: 2 + 22 + 222 + 2222 + 22222 \n",
    "#     Output: 24690\n",
    "\n",
    "#Swetha's Logic\n",
    "# n = int(input(\"Enter the max length of d: \"))\n",
    "# d = input(\"Enter the digit: \")\n",
    "# sum = 0\n",
    "# for i in range(1, n+1):\n",
    "#     v = d * i\n",
    "#     sum = sum + int(v)\n",
    "#     print(i, v, sum)\n",
    "# print(sum)\n",
    "\n",
    "\n",
    "#Pavani's Code\n",
    "x = int(input(\"enter no of terms: \"))\n",
    "l = int(input(\"Enter the number: \"))\n",
    "s = 0\n",
    "sum1 = 0\n",
    "for i in range(0,x):\n",
    "    s = s*10+l\n",
    "    print(s, end = \" \")\n",
    "    sum1 = sum1 + s\n",
    "print()\n",
    "print(\"sum of series:\", sum1)"
   ]
  },
  {
   "cell_type": "code",
   "execution_count": null,
   "id": "revolutionary-denial",
   "metadata": {},
   "outputs": [],
   "source": []
  },
  {
   "cell_type": "code",
   "execution_count": null,
   "id": "spread-answer",
   "metadata": {},
   "outputs": [],
   "source": [
    "#L10\n",
    "WAP that keeps on accepting numbers from the user until the user enters Zero(0) as input.\n",
    "Display the sum and average of all the numbers."
   ]
  },
  {
   "cell_type": "code",
   "execution_count": null,
   "id": "incorporated-stupid",
   "metadata": {},
   "outputs": [],
   "source": [
    "#L11\n",
    "Accept n numbers from the user and display their average. n is input from the user."
   ]
  },
  {
   "cell_type": "code",
   "execution_count": null,
   "id": "interim-disco",
   "metadata": {},
   "outputs": [],
   "source": []
  },
  {
   "cell_type": "code",
   "execution_count": null,
   "id": "increased-portsmouth",
   "metadata": {},
   "outputs": [],
   "source": []
  },
  {
   "cell_type": "code",
   "execution_count": 40,
   "id": "accessible-victory",
   "metadata": {},
   "outputs": [
    {
     "name": "stdout",
     "output_type": "stream",
     "text": [
      "Enter your username: harshil\n",
      "Enter password now: qwerty\n",
      "You are now logged in.\n"
     ]
    },
    {
     "data": {
      "text/plain": [
       "{'harshil': 'qwerty'}"
      ]
     },
     "execution_count": 40,
     "metadata": {},
     "output_type": "execute_result"
    }
   ],
   "source": []
  },
  {
   "cell_type": "markdown",
   "id": "shared-cemetery",
   "metadata": {},
   "source": [
    "### String Questions"
   ]
  },
  {
   "cell_type": "code",
   "execution_count": null,
   "id": "referenced-order",
   "metadata": {},
   "outputs": [],
   "source": [
    "#S1\n",
    "Write a Python program to count the number of each of the characters (character frequency) \n",
    "\n",
    "   in a string input by the user. Ignore the case.\n",
    "   For example: Input: \"Python is great\"\n",
    "\t\tOutput: P = 1, y = 1, t = 2, and so on..."
   ]
  },
  {
   "cell_type": "code",
   "execution_count": null,
   "id": "confirmed-graduate",
   "metadata": {},
   "outputs": [],
   "source": [
    "#S2\n",
    "Write a Python program to find the digits which are absent in a given mobile number.\n",
    "\n",
    "   For example: Input : 9354328855\n",
    "                Output: 0167"
   ]
  },
  {
   "cell_type": "code",
   "execution_count": null,
   "id": "graduate-scratch",
   "metadata": {},
   "outputs": [],
   "source": [
    "#S3\n",
    "WAP in python to find average of n numbers taken as input from the user dynamically."
   ]
  },
  {
   "cell_type": "code",
   "execution_count": null,
   "id": "international-hazard",
   "metadata": {},
   "outputs": [],
   "source": [
    "#S4\n",
    "WAP in python that accepts a hyphen-separated sequence of \n",
    "words as input and prints the words in a hyphen-separated \n",
    "sequence after sorting them alphabetically.\n",
    "\n",
    "For e.g. Input: \"p-y-t-h-o-n\"\n",
    "        Output: ['h', 'n','o', 'p', 't', 'y']"
   ]
  },
  {
   "cell_type": "code",
   "execution_count": 1,
   "id": "dense-jungle",
   "metadata": {},
   "outputs": [
    {
     "name": "stdout",
     "output_type": "stream",
     "text": [
      "Enter a string: Python is gre@t and 1st\n",
      "4 13 1 1 4\n"
     ]
    }
   ],
   "source": [
    "#S5\n",
    "# WAP in python to find the number/count of vowels, consonants, digits, special characters \n",
    "# and white space characters in a string input by the user.\n",
    "\n",
    "# Example: Input: \"Qwerty@123\"\n",
    "# \toutput: v = 1, c = 5, d = 3, w = 0, s = 1\n",
    "        \n",
    "        \n",
    "string = input(\"Enter a string: \")    #Python is gre@t and 1st\n",
    "\n",
    "vc = cc = dc = sc = wc = 0\n",
    "\n",
    "#vowel = \"aeiou\"\n",
    "#vowel = vowel + vowel.upper()\n",
    "#cons = \"bcdfghjklmnpqrstvwxyz\"\n",
    "#cons = cons + cons.upper()\n",
    "#schar = \"!@#$%^&*()_\"\n",
    "#wspace = \" \"\n",
    "#digit = \"0123456789\"\n",
    "\n",
    "for x in string.lower():\n",
    "    if x in \"aeiou\":\n",
    "        vc += 1\n",
    "    elif x in \"bcdfghjklmnpqrstvwxyz\":\n",
    "        cc += 1\n",
    "    elif x.isdigit():\n",
    "        dc += 1\n",
    "    elif x in \"!@#$%^&*()_.,/\\=+-\":\n",
    "        sc += 1\n",
    "    elif x == \" \":\n",
    "        wc += 1\n",
    "        \n",
    "print(vc, cc, dc, sc, wc)"
   ]
  },
  {
   "cell_type": "code",
   "execution_count": null,
   "id": "black-publicity",
   "metadata": {},
   "outputs": [],
   "source": [
    "#S6\n",
    "WAP in python to check the strength of the password input by the user based on the following features.\n",
    "    Length minimum of 8 characters  (+1 Strength)\n",
    "    Combination of upper case & lower case characters (+1 Strength)\n",
    "    Combination of alphabets & digits (+1 Strength)\n",
    "    Use of Special Characters (+1 Strength)\n",
    "    \n",
    "Example: Input: \"Qwerty@123\"\n",
    "        Output: Strength = 4        "
   ]
  },
  {
   "cell_type": "code",
   "execution_count": null,
   "id": "fresh-encoding",
   "metadata": {},
   "outputs": [],
   "source": [
    "#S7\n",
    "WAP in python to compare two strings and tell the user if both of those strings are same or not. \n",
    "Ignore their case.\n",
    "\n",
    "Example: Input String1: \"Hello\"\n",
    "\tInput String2: \"hello\"\n",
    "\tOutput: Strings are same"
   ]
  },
  {
   "cell_type": "code",
   "execution_count": null,
   "id": "acoustic-pastor",
   "metadata": {},
   "outputs": [],
   "source": [
    "#S8\n",
    "WAP in python to calculate the number of times a character is repeated in a given string.\n",
    "Take the string and character from the user.\n",
    "\n",
    "Example: Input String: \"Neil Nitin Mukesh\"\n",
    "        Input Character: \"e\"\n",
    "        Output: 2"
   ]
  },
  {
   "cell_type": "code",
   "execution_count": null,
   "id": "handmade-bidding",
   "metadata": {},
   "outputs": [],
   "source": [
    "#S9\n",
    "WAP in python which accepts string from the user and displays only those characters/elements which are present at an even index.\n",
    "\n",
    "Example: \n",
    "    Input: \"Python\"\n",
    "    Output: Pto"
   ]
  },
  {
   "cell_type": "code",
   "execution_count": null,
   "id": "polish-regulation",
   "metadata": {},
   "outputs": [],
   "source": [
    "#S10\n",
    "WAP in python to capitalize the first letter of the First Name and Surname where whole name is taken as input from the user.\n",
    "\n",
    "Example: Input: \"first last\" or \"FIRST LAST\" or \"first lAst\" i.e. Input can be in any case.\n",
    "        Output: \"First Last\""
   ]
  },
  {
   "cell_type": "code",
   "execution_count": null,
   "id": "thrown-hampshire",
   "metadata": {},
   "outputs": [],
   "source": [
    "#S11\n",
    "Write a Python program that accepts a comma separated sequence of words as input and \n",
    "prints the unique words in sorted form (alphanumerically).\n",
    "\n",
    "\tSample Words : red, white, black, red, green    \n",
    "\tExpected Result : black, green, red, red, white"
   ]
  },
  {
   "cell_type": "code",
   "execution_count": null,
   "id": "empty-necklace",
   "metadata": {},
   "outputs": [],
   "source": [
    "#S12\n",
    "Write a Python program to count repeated characters in a string.\n",
    "\n",
    "\tSample string: 'thequickbrownfoxjumpsoverthelazydog'\n",
    "\tExpected output :\n",
    "\t\t\to 4\n",
    "\t\t\te 3\n",
    "\t\t\tu 2\n",
    "\t\t\th 2\n",
    "\t\t\tr 2\n",
    "\t\t\tt 2"
   ]
  },
  {
   "cell_type": "code",
   "execution_count": null,
   "id": "local-herald",
   "metadata": {},
   "outputs": [],
   "source": []
  },
  {
   "cell_type": "code",
   "execution_count": null,
   "id": "hidden-trout",
   "metadata": {},
   "outputs": [],
   "source": []
  },
  {
   "cell_type": "code",
   "execution_count": null,
   "id": "female-ladder",
   "metadata": {},
   "outputs": [],
   "source": []
  },
  {
   "cell_type": "markdown",
   "id": "phantom-woman",
   "metadata": {},
   "source": [
    "### List Questions"
   ]
  },
  {
   "cell_type": "code",
   "execution_count": 14,
   "id": "average-intervention",
   "metadata": {},
   "outputs": [
    {
     "data": {
      "text/plain": [
       "['My', 'name', 'is', 'Alankrita', '.']"
      ]
     },
     "execution_count": 14,
     "metadata": {},
     "output_type": "execute_result"
    }
   ],
   "source": [
    "#Li1\n",
    "# WAP to remove empty strings from the list of strings. Take list as input from the user.\n",
    "\n",
    "# For example: Input: [\"My\", \"name\", \"\", \"is\", \"\", \"Alankrita\", \"\", \".\"]\n",
    "#             Output: [\"My\", \"name\", \"is\", \"Alankrita\", \".\"]\n",
    "\n",
    "#Wrong Logic\n",
    "# x=[\"My\", \"name\", \"\", \"is\", \"\", \"Alankrita\", \"\", \".\"]\n",
    "# y=\" \".join(x)\n",
    "# print(y)\n",
    "# v=y.split(' ')\n",
    "# print(v)\n",
    "# z=\" \".join(v)\n",
    "# print(z)\n",
    "# c=z.split(' ')\n",
    "\n",
    "x = [\"My\", \"name\", \"\", \"is\", \"\", \"Alankrita\", \"\", \".\"]\n",
    "for i in range(x.count(\"\")):\n",
    "    x.remove(\"\")\n",
    "x"
   ]
  },
  {
   "cell_type": "code",
   "execution_count": 6,
   "id": "level-provision",
   "metadata": {},
   "outputs": [
    {
     "name": "stdout",
     "output_type": "stream",
     "text": [
      "Till where you want series of alphabetsH\n",
      "['A', 'B', 'C', 'D', 'E', 'F', 'G', 'H']\n"
     ]
    }
   ],
   "source": [
    "#Li2\n",
    "# WAP to make a list of all the characters starting from character 'A' to the input character from the user.\n",
    "\n",
    "# For e.g. Input: 'H'\n",
    "#         Output: [\"A\", \"B\", \"C\", \"D\", \"E\", \"F\", \"G\", \"H\"]\n",
    "#          Input: 'C'\n",
    "#         Output: [\"A\", \"B\", \"C\"]\n",
    "\n",
    "# c = input(\"Enter the character in caps: \")  #\"C\"\n",
    "# c = c.upper()\n",
    "# l = []\n",
    "# a = ord(c)\n",
    "# for i in range(65, a+1):\n",
    "#     l.append(chr(i))\n",
    "# l\n",
    "\n",
    "# c = input(\"Enter the character in caps: \")  #\"C\"\n",
    "# l = []\n",
    "# for i in range(65, ord(c.upper())+1):\n",
    "#     l.append(chr(i))\n",
    "# l\n",
    "\n",
    "\n",
    "#Rachit's Code\n",
    "# f = input('Till where you want series of alphabets: ')\n",
    "\n",
    "# l = []\n",
    "# y = 'ABCDEFGHIJKLMNOPQRSTUVWXYZ'\n",
    "\n",
    "# for c in range(len(y)):\n",
    "#     if (y[c]) == f.upper():\n",
    "#         l.append(y[c])\n",
    "#         break\n",
    "#     elif y[c] != f.upper():\n",
    "#         l.append(y[c])\n",
    "\n",
    "# print(l)"
   ]
  },
  {
   "cell_type": "code",
   "execution_count": null,
   "id": "foreign-freeware",
   "metadata": {},
   "outputs": [],
   "source": [
    "#Li3\n",
    "WAP to check if a specific employee e is present in a company or not. Employee names are saved in a list.\n",
    "e is taken as input from the user.\n",
    "\n",
    "For example: empList = [\"Ashwin\", \"Rachit\", \"Sanjana\", \"David\", \"Komal\"]\n",
    "            Input1: \"Komal\"\n",
    "            Output1: \"Employee is present\"\n",
    "            \n",
    "            Input2: \"Harshil\"\n",
    "            Output2: \"Employee is not present\""
   ]
  },
  {
   "cell_type": "code",
   "execution_count": null,
   "id": "roman-aaron",
   "metadata": {},
   "outputs": [],
   "source": [
    "#Li4\n",
    "Write a python program to find the maximum and minimum number in a list of 10 elements \n",
    "   (taken as input from the user) and also find the index position of the these numbers.\n",
    "    \n",
    "   For example: Input : [25, 2, 1, 86, 42, 32, 27, 12, 31, 10]\n",
    "\t\tOutput: Max Number: 86, Index of Max Number: 3\n",
    "\t\t\tMin Number: 1, Index of Min Number: 2"
   ]
  },
  {
   "cell_type": "code",
   "execution_count": null,
   "id": "announced-victor",
   "metadata": {},
   "outputs": [],
   "source": [
    "#Li5\n",
    "Given two Python lists of same length. Iterate both lists simultaneously such that list1 \n",
    "   should display item in original order and list2 in reverse order.\n",
    "    \n",
    "   For example: Input = list1 = [10, 20, 30, 40]\n",
    "\t\t\tlist2 = [100, 200, 300, 400]\n",
    "            Output: 10 400\n",
    "                    20 300\n",
    "                    30 200\n",
    "                    40 100"
   ]
  },
  {
   "cell_type": "code",
   "execution_count": null,
   "id": "rural-stevens",
   "metadata": {},
   "outputs": [],
   "source": [
    "#Li6\n",
    "WAP to concatenate two lists index-wise.\n",
    "    list1 = [\"M\", \"na\", \"i\", \"Ashu\"]\n",
    "    list2 = [\"y\", \"me\", \"s\", \"tosh\"]\n",
    "    Output: ['My', 'name', 'is', 'Ashutosh']"
   ]
  },
  {
   "cell_type": "code",
   "execution_count": null,
   "id": "accessory-switch",
   "metadata": {},
   "outputs": [],
   "source": [
    "#Li7\n",
    "WAP to remove/delete items from a list while iterating without creating a duplicate list.\n",
    "Take the elements to be deleted from the user in real-time."
   ]
  },
  {
   "cell_type": "code",
   "execution_count": 1,
   "id": "massive-bangladesh",
   "metadata": {},
   "outputs": [
    {
     "name": "stdout",
     "output_type": "stream",
     "text": [
      "Enter the start value: 7\n",
      "Enter the end value: 67\n",
      "[7, 11, 13, 17, 19, 23, 29, 31, 37, 41, 43, 47, 53, 59, 61, 67]\n"
     ]
    }
   ],
   "source": [
    "#Li8\n",
    "# WAP to generate a Python list of all the prime numbers between n to m where n & m are taken as input from the user.\n",
    "\n",
    "m = int(input(\"Enter the start value: \")) #7\n",
    "n = int(input(\"Enter the end value: \"))  #67\n",
    "l = []\n",
    "\n",
    "for i in range(m, n+1):\n",
    "    if i > 1:\n",
    "        for j in range(2, i):\n",
    "            if i%j == 0:\n",
    "                break\n",
    "        else:\n",
    "            l.append(i)\n",
    "print(l)"
   ]
  },
  {
   "cell_type": "code",
   "execution_count": 4,
   "id": "active-terrace",
   "metadata": {},
   "outputs": [
    {
     "name": "stdout",
     "output_type": "stream",
     "text": [
      "['Hello Hi', 'Hello There', 'World Hi', 'World There']\n"
     ]
    }
   ],
   "source": [
    "#Li9\n",
    "# WAP to concatenate two lists in the following order:\n",
    "#     list1 = [\"Hello\", \"World\"]\n",
    "#     list2 = [\"Hi\", \"There\"]\n",
    "#     Output: ['Hello Hi', 'Hello There', 'World Hi', 'World There']\n",
    "\n",
    "\n",
    "#Ashutosh's Code\n",
    "l1 = [\"Hello\", \"World\"]\n",
    "l2 = [\"Hi\", \"There\"]\n",
    "ol = []\n",
    "\n",
    "\n",
    "for i in l1:\n",
    "    for j in l2:\n",
    "        ol.append(i + \" \" + j)\n",
    "\n",
    "print(ol)\n"
   ]
  },
  {
   "cell_type": "code",
   "execution_count": null,
   "id": "documentary-labor",
   "metadata": {},
   "outputs": [],
   "source": [
    "#Li10\n",
    "Given two lists having names of students and their corrsponding marks.\n",
    "names = [\"Ashutosh\", \"Ajay\", \"Alankrita\", \"Rachit\", \"Komal\", \"Anil\"]\n",
    "marks = [23, 21, 26, 23, 27, 24]\n",
    "Take name of a student as input from the user and output his/her marks.\n",
    "\n",
    "For e.g.:\n",
    "    Input1: \"Alankrita\"\n",
    "    Output1: 26\n",
    "        \n",
    "    Input2: \"Someone\"\n",
    "    Output2: \"Student not found\""
   ]
  },
  {
   "cell_type": "code",
   "execution_count": null,
   "id": "growing-burden",
   "metadata": {},
   "outputs": [],
   "source": [
    "#Li11\n",
    "Extended question of #Li10\n",
    "Add an option to change marks of any students in the same code of #Li10. Take student name and new marks from the user. \n",
    "Print the modified list as output.\n",
    "\n",
    "For e.g.: Input: \"Ajay\"\n",
    "        new_mark: 25\n",
    "        Output: marks = [23, 25, 26, 23, 27, 24]"
   ]
  },
  {
   "cell_type": "code",
   "execution_count": null,
   "id": "celtic-coordinator",
   "metadata": {},
   "outputs": [],
   "source": [
    "#Li12\n",
    "Extended question of #Li10\n",
    "Give an option to enter the marks of a new student into the existing lists names and marks. Take new data as input from user.\n",
    "Print the new names and marks list as output.\n",
    "\n",
    "For e.g.: Input: New_name = \"Harshil\"\n",
    "                new_Marks = 20\n",
    "        Output: names = [\"Ashutosh\", \"Ajay\", \"Alankrita\", \"Rachit\", \"Komal\", \"Anil\", \"Harshil\"]\n",
    "                marks = [23, 21, 26, 23, 27, 24, 20]"
   ]
  },
  {
   "cell_type": "code",
   "execution_count": null,
   "id": "innovative-garage",
   "metadata": {},
   "outputs": [],
   "source": []
  },
  {
   "cell_type": "code",
   "execution_count": null,
   "id": "direct-vinyl",
   "metadata": {},
   "outputs": [],
   "source": []
  },
  {
   "cell_type": "markdown",
   "id": "noble-rogers",
   "metadata": {},
   "source": [
    "### Dictionary Questions"
   ]
  },
  {
   "cell_type": "code",
   "execution_count": null,
   "id": "disturbed-stream",
   "metadata": {},
   "outputs": [],
   "source": [
    "#D1\n",
    "WAP in Python to merge following dictionaries to create a new one:\n",
    "\tdic1={1:10, 2:20}\n",
    "\tdic2={3:30, 4:40}\n",
    "\tdic3={5:50, 6:60}"
   ]
  },
  {
   "cell_type": "code",
   "execution_count": null,
   "id": "lyric-illinois",
   "metadata": {},
   "outputs": [],
   "source": [
    "#D2\n",
    "WAP in python to generate and print a dictionary that contains a number (between 1 and n) \n",
    "in the form {x : x*x} where n is the input from the user.\n",
    "\n",
    "For e.g. Input: 4\n",
    "        Output: {1:1, 2:4, 3:9, 4:16}"
   ]
  },
  {
   "cell_type": "code",
   "execution_count": 6,
   "id": "roman-orleans",
   "metadata": {},
   "outputs": [
    {
     "name": "stdout",
     "output_type": "stream",
     "text": [
      "Enter a string: ashutosh@ 1983\n",
      "{'Vowel': 3, 'Consonant': 5, 'Digit': 4, 'Spe.Char': 1, 'White Char': 1}\n"
     ]
    }
   ],
   "source": [
    "#D3\n",
    "# WAP in python to find the number/count of vowels, consonants, digits, white space characters & \n",
    "# special characters in a string and save the result in the form of a dictionary.\n",
    "\n",
    "# x = \"ashutosh@1983\"\n",
    "# a = {}\n",
    "# v = 0\n",
    "# for i in x:\n",
    "#     if(i==\"a\" or i==\"e\" or i==\"i\" or i==\"o\" or i==\"u\"):\n",
    "#         v+=1\n",
    "#         a.update({'Vowel':v})\n",
    "# print(a)\n",
    "\n",
    "string = input(\"Enter a string: \")    #Python is gre@t and 1st\n",
    "\n",
    "vc = cc = dc = sc = wc = 0\n",
    "\n",
    "for x in string.lower():\n",
    "    if x in \"aeiou\":\n",
    "        vc += 1\n",
    "    elif x in \"bcdfghjklmnpqrstvwxyz\":\n",
    "        cc += 1\n",
    "    elif x.isdigit():\n",
    "        dc += 1\n",
    "    elif x in \"!@#$%^&*()_.,/\\=+-\":\n",
    "        sc += 1\n",
    "    elif x == \" \":\n",
    "        wc += 1\n",
    "        \n",
    "d = {\"Vowel\":vc, \"Consonant\":cc, \"Digit\":dc, \"Spe.Char\":sc, \"White Char\":wc}\n",
    "print(d)"
   ]
  },
  {
   "cell_type": "code",
   "execution_count": null,
   "id": "administrative-tunisia",
   "metadata": {},
   "outputs": [],
   "source": [
    "#D4\n",
    "WAP to reverse map the dictionary items. Take dictionary as input from the user.\n",
    "\n",
    "\tFor eg., Input: d = {'A': 65, 'B': 66, 'C': 67, 'D': 68}\n",
    "            Output: d = {65: 'A', 66: 'B', 67: 'C', 68: 'D'}"
   ]
  },
  {
   "cell_type": "code",
   "execution_count": null,
   "id": "empirical-effort",
   "metadata": {},
   "outputs": [],
   "source": [
    "#D5\n",
    "WAP to save Username and Password of 10 employees in an organisation. \n",
    "Take the Username and Password as input from the user one by one and save in the Dictionary."
   ]
  },
  {
   "cell_type": "code",
   "execution_count": null,
   "id": "driven-glossary",
   "metadata": {},
   "outputs": [],
   "source": [
    "#D6\n",
    "Extended Question from #D5\n",
    "Write an additional functionality to check if an employee is present in the organisation or not.\n",
    "Basically \"Search\" Functionality based on their username\n",
    "Take employee name as input from the user.\n",
    "If the employee is present, print \"Present\" else print \"Not Present\""
   ]
  },
  {
   "cell_type": "code",
   "execution_count": null,
   "id": "stainless-replication",
   "metadata": {},
   "outputs": [],
   "source": []
  },
  {
   "cell_type": "markdown",
   "id": "heated-announcement",
   "metadata": {},
   "source": [
    "### Misc. Questions - i.e. you can use any data type which seems feasible for question"
   ]
  },
  {
   "cell_type": "code",
   "execution_count": null,
   "id": "pursuant-confidentiality",
   "metadata": {},
   "outputs": [],
   "source": [
    "#M1\n",
    "WAP in python that accepts two integers (n) & (m) from user and computes the value of 2n3 + 5m2 - 7n + 10"
   ]
  },
  {
   "cell_type": "code",
   "execution_count": null,
   "id": "different-pilot",
   "metadata": {},
   "outputs": [],
   "source": [
    "#M2\n",
    "Write a python program to find the intersection of elements from two list (find the common elements in two lists)."
   ]
  },
  {
   "cell_type": "code",
   "execution_count": null,
   "id": "inner-american",
   "metadata": {},
   "outputs": [],
   "source": [
    "#M3\n",
    "WAP in Python to find the Max of n numbers all taken as input from the user."
   ]
  },
  {
   "cell_type": "code",
   "execution_count": null,
   "id": "pointed-consensus",
   "metadata": {},
   "outputs": [],
   "source": [
    "#M4\n",
    "WAP which takes a sequence of numbers from the user and check if all input numbers are unique."
   ]
  },
  {
   "cell_type": "code",
   "execution_count": null,
   "id": "broadband-christmas",
   "metadata": {},
   "outputs": [],
   "source": [
    "#M5\n",
    "WAP to reverse a given integer number.\n",
    "Example: Input: 105320\n",
    "        Output: 023501"
   ]
  },
  {
   "cell_type": "code",
   "execution_count": null,
   "id": "canadian-latino",
   "metadata": {},
   "outputs": [],
   "source": [
    "#M6\n",
    "WAP to take 10 integer inputs from the user and save them in a list. The inputs have to be mix of even and odd numbers. \n",
    "Now make one list to save all the even numbers from the input list. Make another list for odd numbers too."
   ]
  },
  {
   "cell_type": "code",
   "execution_count": null,
   "id": "unique-account",
   "metadata": {},
   "outputs": [],
   "source": [
    "#M7\n",
    "WAP to convert temperature in Fahrenheit to Celsius. Take the temperature from the user in float type."
   ]
  },
  {
   "cell_type": "code",
   "execution_count": null,
   "id": "primary-stocks",
   "metadata": {},
   "outputs": [],
   "source": [
    "#M8\n",
    "WAP to continuously take Names as input from the user. \n",
    "Save the incoming names into a list as Full Name and save {First Name:Second Name} in a dictionary.\n",
    "Take inputs till the user enters \"Stop\"\n",
    "\n",
    "For e.g.: Input: \"Shahrukh Khan\", \"Gauri Khan\",...................\"Stop\"\n",
    "         Output: list1 = [\"Shahrukh Khan\", \"Gauri Khan\",....................]\n",
    "                dict1 = {\"Shahrukh\":\"Khan\", \"Gauri\":\"Khan\", .....................}"
   ]
  },
  {
   "cell_type": "code",
   "execution_count": 9,
   "id": "sunrise-sculpture",
   "metadata": {},
   "outputs": [
    {
     "name": "stdout",
     "output_type": "stream",
     "text": [
      "Enter principal amount :  1000\n",
      "Enter rate of interest :  2\n",
      "Enter time duration :  1\n",
      "1020.0\n",
      "1020.0\n"
     ]
    }
   ],
   "source": [
    "#M9\n",
    "# WAP to make a simple and compound interest calculator. Take all the necessary data as input from the user.\n",
    "\n",
    "#Ashutosh' Code\n",
    "# p = float(input(\"Enter principal amount :  \"))\n",
    "# r = float(input(\"Enter rate of interest :  \"))\n",
    "# t = float(input(\"Enter time duration :  \"))\n",
    "# A = p*(1+(r/100)*t)\n",
    "# print(A)\n",
    "# #compound\n",
    "# A1 = p*(1+((r/100)/t))**t\n",
    "# print(A1)\n",
    "\n",
    "#Pavani's Code\n",
    "# p = int(input(\"enter principle amount: \"))\n",
    "# t = int(input(\"enter time period: \"))\n",
    "# r = int(input(\"enter rate of interest: \"))\n",
    "# si = (p*t*r)/100\n",
    "# print(\"simple interest: \",si)\n",
    "# ci =  p*(1+r/100)*(1+r/100) - p\n",
    "# print(\"compound interest: \",ci)\n"
   ]
  },
  {
   "cell_type": "code",
   "execution_count": null,
   "id": "tired-tower",
   "metadata": {},
   "outputs": [],
   "source": [
    "#M10\n"
   ]
  },
  {
   "cell_type": "code",
   "execution_count": null,
   "id": "realistic-armor",
   "metadata": {},
   "outputs": [],
   "source": []
  },
  {
   "cell_type": "code",
   "execution_count": null,
   "id": "contemporary-concern",
   "metadata": {},
   "outputs": [],
   "source": []
  },
  {
   "cell_type": "code",
   "execution_count": null,
   "id": "veterinary-logging",
   "metadata": {},
   "outputs": [],
   "source": []
  },
  {
   "cell_type": "code",
   "execution_count": null,
   "id": "upper-reason",
   "metadata": {},
   "outputs": [],
   "source": []
  },
  {
   "cell_type": "code",
   "execution_count": null,
   "id": "rolled-armenia",
   "metadata": {},
   "outputs": [],
   "source": []
  },
  {
   "cell_type": "code",
   "execution_count": null,
   "id": "endangered-sauce",
   "metadata": {},
   "outputs": [],
   "source": []
  },
  {
   "cell_type": "code",
   "execution_count": null,
   "id": "aggressive-analysis",
   "metadata": {},
   "outputs": [],
   "source": []
  },
  {
   "cell_type": "code",
   "execution_count": null,
   "id": "proper-commander",
   "metadata": {},
   "outputs": [],
   "source": []
  },
  {
   "cell_type": "code",
   "execution_count": null,
   "id": "comparable-congo",
   "metadata": {},
   "outputs": [],
   "source": [
    "### Rough Work"
   ]
  },
  {
   "cell_type": "code",
   "execution_count": 50,
   "id": "circular-style",
   "metadata": {},
   "outputs": [],
   "source": [
    "d = {\"harshil\":\"qwerty\"}"
   ]
  },
  {
   "cell_type": "code",
   "execution_count": 49,
   "id": "inclusive-swift",
   "metadata": {},
   "outputs": [],
   "source": [
    "d = {\"harshil\":\"qwerty1\"}"
   ]
  },
  {
   "cell_type": "code",
   "execution_count": null,
   "id": "lesser-campus",
   "metadata": {},
   "outputs": [],
   "source": [
    "def signin(d):\n",
    "    while(1):\n",
    "        us = input(\"Enter your username: \")\n",
    "        if us in d:\n",
    "            pw = input(\"Enter password now: \")\n",
    "            if pw == d.get(us):    \n",
    "                #if d[us] == pw:\n",
    "                print(\"You are now logged in.\")\n",
    "                return d\n",
    "            else:\n",
    "                print(\"Password is incorrect, try again.\")\n",
    "        else:\n",
    "            print(\"Username doesn't exists.\")\n",
    "\n",
    "signin(d)"
   ]
  },
  {
   "cell_type": "code",
   "execution_count": 42,
   "id": "interesting-result",
   "metadata": {},
   "outputs": [],
   "source": [
    "x = 10"
   ]
  },
  {
   "cell_type": "code",
   "execution_count": 46,
   "id": "tested-convention",
   "metadata": {},
   "outputs": [
    {
     "data": {
      "text/plain": [
       "45"
      ]
     },
     "execution_count": 46,
     "metadata": {},
     "output_type": "execute_result"
    }
   ],
   "source": [
    "x"
   ]
  },
  {
   "cell_type": "code",
   "execution_count": 44,
   "id": "becoming-differential",
   "metadata": {},
   "outputs": [],
   "source": [
    "x = 45"
   ]
  },
  {
   "cell_type": "code",
   "execution_count": 45,
   "id": "following-hamilton",
   "metadata": {},
   "outputs": [
    {
     "data": {
      "text/plain": [
       "45"
      ]
     },
     "execution_count": 45,
     "metadata": {},
     "output_type": "execute_result"
    }
   ],
   "source": [
    "x"
   ]
  },
  {
   "cell_type": "code",
   "execution_count": 65,
   "id": "loaded-liechtenstein",
   "metadata": {},
   "outputs": [
    {
     "name": "stdout",
     "output_type": "stream",
     "text": [
      "10\n",
      "10\n",
      "6\n",
      "6\n",
      "0\n",
      "0\n",
      "-1\n"
     ]
    }
   ],
   "source": [
    "l = [10,12,6,32,0,54,-1]\n",
    "\n",
    "small = l[0]\n",
    "\n",
    "for i in l:\n",
    "    if i < small:\n",
    "        small = i\n",
    "    print(small)"
   ]
  },
  {
   "cell_type": "code",
   "execution_count": 25,
   "id": "pointed-substitute",
   "metadata": {},
   "outputs": [
    {
     "name": "stdout",
     "output_type": "stream",
     "text": [
      "[10, 1, 11, 29, 876, 768, 92]\n"
     ]
    }
   ],
   "source": [
    "# Write a Python program to remove duplicate element from a list using loop.\n",
    "#Input:- [10,1,11,1,29,876,768,10,11,1,92,29,876]\n",
    "#Output:- [10,1,11,29,876,768,92]\n",
    "\n",
    "str1 = [10,1,11,1,29,876,768,10,11,1,92,29,876]\n",
    "lstr1 = len(str1)\n",
    "for i in range(lstr1):\n",
    "    lstr1 = len(str1)\n",
    "    p = []\n",
    "    for j in range(i+1,lstr1):\n",
    "        if str1[i] == str1[j]:\n",
    "            p.append(j)\n",
    "    for k in range(len(p)):\n",
    "        str1.pop(p[k]-k)\n",
    "        \n",
    "print(str1)"
   ]
  },
  {
   "cell_type": "code",
   "execution_count": 22,
   "id": "patent-virtue",
   "metadata": {},
   "outputs": [
    {
     "name": "stdout",
     "output_type": "stream",
     "text": [
      "10 1\n",
      "10 11\n",
      "10 1\n",
      "10 29\n",
      "10 876\n",
      "10 768\n",
      "10 10\n",
      "1 11\n",
      "1 1\n",
      "11 29\n",
      "11 876\n",
      "11 768\n",
      "11 11\n",
      "29 876\n",
      "29 768\n",
      "29 1\n",
      "29 92\n",
      "29 29\n",
      "876 768\n",
      "876 1\n",
      "876 92\n",
      "876 876\n",
      "768 1\n",
      "768 92\n",
      "1 92\n",
      "[10, 1, 11, 29, 876, 768, 1, 92]\n"
     ]
    }
   ],
   "source": [
    "# Write a Python program to remove duplicate element from a list using loop.\n",
    "#Input:- [10,1,11,1,29,876,768,10,11,1,92,29,876]\n",
    "#Output:- [10,1,11,29,876,768,92]\n",
    "\n",
    "str1 = [10,1,11,1,29,876,768,10,11,1,92,29,876]\n",
    "lstr1 = len(str1)\n",
    "for i in range(lstr1):\n",
    "    lstr1 = len(str1)\n",
    "    for j in range(i+1,lstr1):\n",
    "        print(str1[i],str1[j])\n",
    "        if str1[i] == str1[j]:\n",
    "            str1.pop(j)\n",
    "            break\n",
    "print(str1)"
   ]
  },
  {
   "cell_type": "code",
   "execution_count": 23,
   "id": "champion-attendance",
   "metadata": {},
   "outputs": [
    {
     "name": "stdout",
     "output_type": "stream",
     "text": [
      "[10, 1, 11, 29, 876, 768, 92]\n"
     ]
    }
   ],
   "source": [
    "#Using append operation\n",
    "str1 = [10,1,11,1,29,876,768,10,11,1,92,29,876]\n",
    "fstr1 = []\n",
    "\n",
    "for i in str1:\n",
    "    if i not in fstr1:\n",
    "        fstr1.append(i)\n",
    "print(fstr1)\n"
   ]
  },
  {
   "cell_type": "code",
   "execution_count": 68,
   "id": "manufactured-project",
   "metadata": {},
   "outputs": [],
   "source": [
    "s = \"Hello\"\n",
    "for i in range(len(s), len(s)):\n",
    "    print(s[i])"
   ]
  },
  {
   "cell_type": "code",
   "execution_count": 83,
   "id": "severe-fusion",
   "metadata": {},
   "outputs": [
    {
     "data": {
      "text/plain": [
       "'123'"
      ]
     },
     "execution_count": 83,
     "metadata": {},
     "output_type": "execute_result"
    }
   ],
   "source": [
    "l = ['1','2','3']\n",
    "s = \"\".join(l)\n",
    "s"
   ]
  },
  {
   "cell_type": "code",
   "execution_count": null,
   "id": "loaded-affiliation",
   "metadata": {},
   "outputs": [],
   "source": []
  }
 ],
 "metadata": {
  "kernelspec": {
   "display_name": "Python 3",
   "language": "python",
   "name": "python3"
  },
  "language_info": {
   "codemirror_mode": {
    "name": "ipython",
    "version": 3
   },
   "file_extension": ".py",
   "mimetype": "text/x-python",
   "name": "python",
   "nbconvert_exporter": "python",
   "pygments_lexer": "ipython3",
   "version": "3.9.1"
  }
 },
 "nbformat": 4,
 "nbformat_minor": 5
}
